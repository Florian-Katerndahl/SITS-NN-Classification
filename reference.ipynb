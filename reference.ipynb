{
 "cells": [
  {
   "cell_type": "code",
   "execution_count": 1,
   "metadata": {},
   "outputs": [],
   "source": [
    "import geopandas as gpd\n",
    "import pandas as pd\n",
    "import os"
   ]
  },
  {
   "cell_type": "code",
   "execution_count": 2,
   "metadata": {},
   "outputs": [],
   "source": [
    "PATH = 'D:\\\\Deutschland\\\\FUB\\\\master_thesis\\\\data\\\\Reference_data\\\\polygons'\n",
    "OUTPUT_PATH = 'D:\\\\Deutschland\\\\FUB\\\\master_thesis\\\\data\\\\gee\\\\output'\n",
    "INPUT_SHP = 'inpolysites.shp'\n",
    "OUTPUT_SHP = 'buffered_wgs_inpolysites.shp'\n",
    "REF_CSV = 'reference.csv'\n",
    "LABEL_CSV = 'labels.csv'"
   ]
  },
  {
   "cell_type": "code",
   "execution_count": 3,
   "metadata": {},
   "outputs": [],
   "source": [
    "def load_shp_file() -> gpd.GeoDataFrame:\n",
    "    in_path = os.path.join(PATH, INPUT_SHP)\n",
    "    # load shp file in python\n",
    "    gdf = gpd.read_file(in_path)\n",
    "    print(f'import file {in_path}')\n",
    "    # remove useless columns\n",
    "    keys = ['OBJEKTART', 'NUART', 'FBEZ', 'BETR', 'REVIER', 'DIST', 'ABT', \n",
    "            'RWET','BI', 'AI_FOLGE', 'BEST_BEZ', 'STICHTAG', 'LWET', 'FEVERFAHRE', \n",
    "            'TURNUS', 'BU_WLRT', 'LWET_TEXT', 'MASSNAHMEN', 'NWW_KAT', 'SHAPE_AREA', \n",
    "            'SHAPE_LEN', 'NHB_BEZ', 'WEFLKZ', 'GUID_ABT', 'layer', 'path']\n",
    "    gdf.drop(columns=keys, inplace=True)\n",
    "    # add uuid to each polygon\n",
    "    gdf['id'] = gdf.index + 1\n",
    "    return gdf"
   ]
  },
  {
   "cell_type": "code",
   "execution_count": 4,
   "metadata": {},
   "outputs": [],
   "source": [
    "def export_shp_file(data_frame:gpd.GeoDataFrame) -> None:\n",
    "    out_path = os.path.join(PATH, OUTPUT_SHP)\n",
    "    gpd.GeoDataFrame.to_file(data_frame, out_path)\n",
    "    print(f'export file {out_path}')"
   ]
  },
  {
   "cell_type": "code",
   "execution_count": 6,
   "metadata": {},
   "outputs": [],
   "source": [
    "def buffer() -> None:\n",
    "    # import shp file\n",
    "    polygons = load_shp_file()\n",
    "    # buffer\n",
    "    polygons[\"geometry\"] = gpd.GeoDataFrame.buffer(polygons, -10)\n",
    "    print(\"Buffer -10 m\")\n",
    "    # reproject\n",
    "    polygons = polygons.to_crs(epsg=4326)\n",
    "    print(\"Reproject to EPSG:4326\")\n",
    "    # export shp file\n",
    "    export_shp_file(polygons)"
   ]
  },
  {
   "cell_type": "code",
   "execution_count": 5,
   "metadata": {},
   "outputs": [],
   "source": [
    "def load_csv_file(filename:str) -> pd.DataFrame:\n",
    "    in_path = os.path.join(OUTPUT_PATH, filename)\n",
    "    df = pd.read_csv(in_path, sep=',', header=0, index_col=False)\n",
    "    print(f'import file {in_path}')\n",
    "    return df"
   ]
  },
  {
   "cell_type": "code",
   "execution_count": 6,
   "metadata": {},
   "outputs": [],
   "source": [
    "def export_csv_file(df:pd.DataFrame, filename:str) -> None:\n",
    "    out_path = os.path.join(OUTPUT_PATH, filename)\n",
    "    df.to_csv(out_path, index=False)\n",
    "    print(f'export file {out_path}')"
   ]
  },
  {
   "cell_type": "code",
   "execution_count": 10,
   "metadata": {},
   "outputs": [
    {
     "name": "stdout",
     "output_type": "stream",
     "text": [
      "import file D:\\Deutschland\\FUB\\master_thesis\\data\\Reference_data\\polygons\\inpolysites.shp\n",
      "export file D:\\Deutschland\\FUB\\master_thesis\\data\\gee\\output\\reference.csv\n"
     ]
    }
   ],
   "source": [
    "def export_reference_data() -> None:\n",
    "    df = load_shp_file()\n",
    "    cols = ['BST2_BA_1', 'BST2_BA_2', 'BST2_BA_3', 'BST2_BA_4', 'BST2_BA_5', 'BST2_BA_6', 'BST2_BA_7', 'BST2_BA_8', \n",
    "        'BST2_BAA_1', 'BST2_BAA_2', 'BST2_BAA_3', 'BST2_BAA_4', 'BST2_BAA_5', 'BST2_BAA_6', 'BST2_BAA_7', 'BST2_BAA_8', \n",
    "        'BST3_BA_1', 'BST3_BA_2', 'BST3_BA_3', 'BST3_BA_4', 'BST3_BA_5', 'BST3_BA_6', 'BST3_BA_7', 'BST3_BA_8', \n",
    "        'BST3_BAA_1', 'BST3_BAA_2', 'BST3_BAA_3', 'BST3_BAA_4', 'BST3_BAA_5', 'BST3_BAA_6', 'BST3_BAA_7', 'BST3_BAA_8',\n",
    "        'geometry']\n",
    "    df = df.drop(df[df['BST1_BA_1'] == 0].index)\n",
    "    df = df.drop(df[df['BST2_BA_1'] != 0].index)\n",
    "    df.drop(columns=cols, inplace=True)\n",
    "    export_csv_file(df, REF_CSV)\n",
    "\n",
    "export_reference_data()"
   ]
  },
  {
   "cell_type": "code",
   "execution_count": 11,
   "metadata": {},
   "outputs": [
    {
     "name": "stdout",
     "output_type": "stream",
     "text": [
      "import file D:\\Deutschland\\FUB\\master_thesis\\data\\gee\\output\\reference.csv\n",
      "export file D:\\Deutschland\\FUB\\master_thesis\\data\\gee\\output\\labels.csv\n"
     ]
    }
   ],
   "source": [
    "def build_label() -> None:\n",
    "    ref = load_csv_file(REF_CSV)\n",
    "    # 110: Spruce\n",
    "    # 710: Beech\n",
    "    # 0: other coniferous\n",
    "    # -1: other deciduous\n",
    "    cols = ['Spruce', 'Beech', 'Coniferous', 'Deciduous', 'id']\n",
    "    labels = []\n",
    "    for index, row in ref.iterrows():\n",
    "        label = pd.DataFrame(columns=cols, index=[0])\n",
    "        label.fillna(value=0, inplace=True)\n",
    "        label['id'] = row[-1]\n",
    "        for i in range(8):\n",
    "            if row[i] == 110:\n",
    "                label['Spruce'] += row[i + 8] / 100\n",
    "            elif row[i] == 710:\n",
    "                label['Beech'] += row[i + 8] / 100\n",
    "            elif row[i] >= 200 and row[i] <= 600:\n",
    "                label['Coniferous'] += row[i + 8] / 100\n",
    "            elif row[i] > 590 and row[i] != 710:\n",
    "                label['Deciduous'] += row[i + 8] / 100\n",
    "        labels.append(label)\n",
    "    output = pd.concat(labels, ignore_index=True)\n",
    "    export_csv_file(output, LABEL_CSV)\n",
    "\n",
    "build_label()"
   ]
  },
  {
   "cell_type": "code",
   "execution_count": null,
   "metadata": {},
   "outputs": [],
   "source": []
  }
 ],
 "metadata": {
  "interpreter": {
   "hash": "97b00fa1772857f8bb41faa71da0ffb20c4d7710343af17d999bad6a7d62b298"
  },
  "kernelspec": {
   "display_name": "Python 3.8.13 ('geo')",
   "language": "python",
   "name": "python3"
  },
  "language_info": {
   "codemirror_mode": {
    "name": "ipython",
    "version": 3
   },
   "file_extension": ".py",
   "mimetype": "text/x-python",
   "name": "python",
   "nbconvert_exporter": "python",
   "pygments_lexer": "ipython3",
   "version": "3.8.13"
  },
  "orig_nbformat": 4
 },
 "nbformat": 4,
 "nbformat_minor": 2
}
