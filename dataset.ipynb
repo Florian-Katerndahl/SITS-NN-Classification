{
 "cells": [
  {
   "cell_type": "code",
   "execution_count": 1,
   "metadata": {},
   "outputs": [],
   "source": [
    "import os\n",
    "import pandas as pd\n",
    "from typing import List"
   ]
  },
  {
   "cell_type": "code",
   "execution_count": 9,
   "metadata": {},
   "outputs": [],
   "source": [
    "PATH='D:\\\\Deutschland\\\\FUB\\\\master_thesis\\\\data\\\\gee'\n",
    "INPUT_DIR = os.path.join(PATH, 'extract_cloud30')\n",
    "OUTPUT_DIR = os.path.join(PATH, 'output')\n",
    "DATE_CSV = 'occurrence_30.csv'\n",
    "MERGE_CSV = 'merged.csv'"
   ]
  },
  {
   "cell_type": "code",
   "execution_count": 3,
   "metadata": {},
   "outputs": [],
   "source": [
    "def load_csv_file(file_path:str) -> pd.DataFrame:\n",
    "    df = pd.read_csv(file_path, sep=',', header=0, parse_dates = ['date'], index_col=['date'])\n",
    "    # delete date when no available data\n",
    "    df.dropna(axis=0, how='any', inplace=True)\n",
    "    print(f'import file {file_path}')\n",
    "    return df"
   ]
  },
  {
   "cell_type": "code",
   "execution_count": 20,
   "metadata": {},
   "outputs": [],
   "source": [
    "def export_csv_file(df:pd.DataFrame, file_path:str, index:bool) -> None:\n",
    "    df.to_csv(file_path, index=index)\n",
    "    print(f'export file {file_path}')"
   ]
  },
  {
   "cell_type": "code",
   "execution_count": 5,
   "metadata": {},
   "outputs": [],
   "source": [
    "def delete_file(file_path:str) -> None:\n",
    "    os.remove(file_path)\n",
    "    print(f'delete file {file_path}')"
   ]
  },
  {
   "cell_type": "code",
   "execution_count": 21,
   "metadata": {},
   "outputs": [
    {
     "name": "stdout",
     "output_type": "stream",
     "text": [
      "import file D:\\Deutschland\\FUB\\master_thesis\\data\\gee\\extract_cloud30\\plot_0.csv\n",
      "import file D:\\Deutschland\\FUB\\master_thesis\\data\\gee\\extract_cloud30\\plot_1.csv\n",
      "import file D:\\Deutschland\\FUB\\master_thesis\\data\\gee\\extract_cloud30\\plot_2.csv\n",
      "import file D:\\Deutschland\\FUB\\master_thesis\\data\\gee\\extract_cloud30\\plot_3.csv\n",
      "import file D:\\Deutschland\\FUB\\master_thesis\\data\\gee\\extract_cloud30\\plot_4.csv\n",
      "import file D:\\Deutschland\\FUB\\master_thesis\\data\\gee\\extract_cloud30\\plot_5.csv\n",
      "import file D:\\Deutschland\\FUB\\master_thesis\\data\\gee\\extract_cloud30\\plot_6.csv\n",
      "export file D:\\Deutschland\\FUB\\master_thesis\\data\\gee\\output\\occurrence_30.csv\n"
     ]
    }
   ],
   "source": [
    "def count_date() -> None:\n",
    "    files = os.listdir(INPUT_DIR)\n",
    "    map = {}\n",
    "    # read each csv file\n",
    "    for file in files:\n",
    "        if file.endswith(\".csv\"):\n",
    "            in_path = os.path.join(INPUT_DIR, file)\n",
    "            try:\n",
    "                df = load_csv_file(in_path)\n",
    "                if df.empty:\n",
    "                    delete_file(in_path)\n",
    "                    continue\n",
    "                # count date occurrence\n",
    "                for index, row in df.iterrows():\n",
    "                    date = index.strftime('%Y%m%d')\n",
    "                    map[date] = map.get(date, 0) + 1\n",
    "            except Exception:\n",
    "                delete_file(in_path)\n",
    "                continue\n",
    "    # export output as csv\n",
    "    dates = list(map.keys())\n",
    "    counts = list(map.values())\n",
    "    output = pd.DataFrame({'date':dates, 'count':counts})\n",
    "    output.sort_values(by='date', ascending=True, inplace=True)\n",
    "    out_path = os.path.join(OUTPUT_DIR, DATE_CSV)\n",
    "    export_csv_file(output, out_path, index=False)\n",
    "\n",
    "count_date()"
   ]
  },
  {
   "cell_type": "code",
   "execution_count": 6,
   "metadata": {},
   "outputs": [],
   "source": [
    "def shuffle(df:pd.DataFrame, ref:pd.DataFrame) -> pd.DataFrame:\n",
    "    df = pd.DataFrame.join(ref, df)\n",
    "    df.drop(columns=['count', 'spacecraft_id'],inplace=True)\n",
    "    df.dropna(axis=0, how='any', inplace=True)\n",
    "    return df"
   ]
  },
  {
   "cell_type": "code",
   "execution_count": 7,
   "metadata": {},
   "outputs": [],
   "source": [
    "def monthly_mean_interpolate(df:pd.DataFrame) -> pd.DataFrame:\n",
    "    # calculate mean band value in vegetation months for each year\n",
    "    mean_df = df.resample('M').mean()\n",
    "    mean_df = mean_df[((mean_df.index.month >= 5) & (mean_df.index.month <=9))]\n",
    "    cols = list(mean_df.keys())\n",
    "    for col in cols:\n",
    "        mean_df[col] = mean_df[col].fillna(mean_df.groupby(mean_df.index.month)[col].transform('mean'))\n",
    "    return mean_df"
   ]
  },
  {
   "cell_type": "code",
   "execution_count": 38,
   "metadata": {},
   "outputs": [],
   "source": [
    "def reshape(df:pd.DataFrame) -> pd.DataFrame:\n",
    "    # turn combination of reflectance value and date into a seperate column\n",
    "    # new keys and values\n",
    "    keys = list(df.keys())\n",
    "    data = {'id':df.iat[0, -1]}\n",
    "    for index, row in df.iterrows():\n",
    "        date = index.strftime('%Y%m%d')\n",
    "        for key in keys[:-1]:\n",
    "            column = f'{date} {key}'\n",
    "            data[column] = [row[key]]\n",
    "    # reshape data\n",
    "    return pd.DataFrame(data)"
   ]
  },
  {
   "cell_type": "code",
   "execution_count": 43,
   "metadata": {},
   "outputs": [],
   "source": [
    "def merge_data_frame(data_frames:List[pd.DataFrame]) -> None:\n",
    "    # merge all input data frames and export to csv file        \n",
    "    merged_df = pd.concat(data_frames, ignore_index=True)\n",
    "    out_path = os.path.join(OUTPUT_DIR, MERGE_CSV)\n",
    "    export_csv_file(merged_df, out_path, False)"
   ]
  },
  {
   "cell_type": "code",
   "execution_count": 44,
   "metadata": {},
   "outputs": [
    {
     "name": "stdout",
     "output_type": "stream",
     "text": [
      "import file D:\\Deutschland\\FUB\\master_thesis\\data\\gee\\output\\occurrence_30.csv\n",
      "import file D:\\Deutschland\\FUB\\master_thesis\\data\\gee\\extract_cloud30\\plot_0.csv\n",
      "export file D:\\Deutschland\\FUB\\master_thesis\\data\\gee\\output\\monthly_mean\\plot_0.csv\n",
      "import file D:\\Deutschland\\FUB\\master_thesis\\data\\gee\\extract_cloud30\\plot_1.csv\n",
      "export file D:\\Deutschland\\FUB\\master_thesis\\data\\gee\\output\\monthly_mean\\plot_1.csv\n",
      "import file D:\\Deutschland\\FUB\\master_thesis\\data\\gee\\extract_cloud30\\plot_2.csv\n",
      "export file D:\\Deutschland\\FUB\\master_thesis\\data\\gee\\output\\monthly_mean\\plot_2.csv\n",
      "import file D:\\Deutschland\\FUB\\master_thesis\\data\\gee\\extract_cloud30\\plot_3.csv\n",
      "export file D:\\Deutschland\\FUB\\master_thesis\\data\\gee\\output\\monthly_mean\\plot_3.csv\n",
      "import file D:\\Deutschland\\FUB\\master_thesis\\data\\gee\\extract_cloud30\\plot_4.csv\n",
      "export file D:\\Deutschland\\FUB\\master_thesis\\data\\gee\\output\\monthly_mean\\plot_4.csv\n",
      "import file D:\\Deutschland\\FUB\\master_thesis\\data\\gee\\extract_cloud30\\plot_5.csv\n",
      "export file D:\\Deutschland\\FUB\\master_thesis\\data\\gee\\output\\monthly_mean\\plot_5.csv\n",
      "import file D:\\Deutschland\\FUB\\master_thesis\\data\\gee\\extract_cloud30\\plot_6.csv\n",
      "export file D:\\Deutschland\\FUB\\master_thesis\\data\\gee\\output\\monthly_mean\\plot_6.csv\n"
     ]
    }
   ],
   "source": [
    "def merge() -> None:\n",
    "    # load all csv from folder\n",
    "    # and turn into list of data frames\n",
    "    data_frames = []\n",
    "    date_path = os.path.join(OUTPUT_DIR, DATE_CSV)\n",
    "    dates = load_csv_file(date_path)\n",
    "    # add each csv file to input list as data frame\n",
    "    files = os.listdir(INPUT_DIR)\n",
    "    for file in files:\n",
    "        if file.endswith(\".csv\"):\n",
    "            in_path = os.path.join(INPUT_DIR, file)\n",
    "            df =load_csv_file(in_path)\n",
    "            df = shuffle(df, dates)\n",
    "            df = monthly_mean_interpolate(df)\n",
    "            # reshape columns to one row\n",
    "            # df = reshape(df)\n",
    "            data_frames.append(df)\n",
    "            # export each new csv file\n",
    "            out_path = os.path.join(OUTPUT_DIR, 'monthly_mean',file)\n",
    "            export_csv_file(df, out_path, True)\n",
    "    # merge_data_frame(data_frames)\n",
    "\n",
    "merge()"
   ]
  },
  {
   "cell_type": "code",
   "execution_count": null,
   "metadata": {},
   "outputs": [],
   "source": []
  }
 ],
 "metadata": {
  "interpreter": {
   "hash": "97b00fa1772857f8bb41faa71da0ffb20c4d7710343af17d999bad6a7d62b298"
  },
  "kernelspec": {
   "display_name": "Python 3.8.13 ('geo')",
   "language": "python",
   "name": "python3"
  },
  "language_info": {
   "codemirror_mode": {
    "name": "ipython",
    "version": 3
   },
   "file_extension": ".py",
   "mimetype": "text/x-python",
   "name": "python",
   "nbconvert_exporter": "python",
   "pygments_lexer": "ipython3",
   "version": "3.8.13"
  },
  "orig_nbformat": 4
 },
 "nbformat": 4,
 "nbformat_minor": 2
}
