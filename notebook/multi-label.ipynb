{
 "cells": [
  {
   "cell_type": "code",
   "execution_count": 41,
   "metadata": {},
   "outputs": [],
   "source": [
    "import numpy as np\n",
    "import torch\n",
    "from torch import nn, optim, Tensor\n",
    "import torch.utils.data as Data\n",
    "import os\n",
    "import sys\n",
    "sys.path.append('../')\n",
    "import utils.csv as csv\n",
    "import utils.validation as val\n",
    "from torchmetrics.classification import MultilabelAccuracy\n",
    "import pandas as pd"
   ]
  },
  {
   "cell_type": "code",
   "execution_count": 42,
   "metadata": {},
   "outputs": [],
   "source": [
    "# file path\n",
    "PATH='D:\\\\Deutschland\\\\FUB\\\\master_thesis\\\\data\\\\gee\\\\output'\n",
    "DATA_DIR = os.path.join(PATH, 'daily_padding')\n",
    "LABEL_CSV = 'label_multi.csv'\n",
    "\n",
    "label_path = os.path.join(PATH, LABEL_CSV)"
   ]
  },
  {
   "cell_type": "code",
   "execution_count": 43,
   "metadata": {},
   "outputs": [
    {
     "data": {
      "text/plain": [
       "array([[1, 1, 1, 0, 0, 0, 0],\n",
       "       [1, 1, 1, 0, 1, 0, 1],\n",
       "       [1, 1, 1, 0, 0, 0, 0],\n",
       "       [1, 1, 1, 0, 1, 0, 0]], dtype=int64)"
      ]
     },
     "execution_count": 43,
     "metadata": {},
     "output_type": "execute_result"
    }
   ],
   "source": [
    "ref = csv.load(label_path, 'id')\n",
    "labels = np.array(ref)\n",
    "labels = labels[0:4, :]\n",
    "labels"
   ]
  },
  {
   "cell_type": "code",
   "execution_count": 44,
   "metadata": {},
   "outputs": [
    {
     "data": {
      "text/plain": [
       "tensor([[0.3748, 0.6827, 0.0203, 0.0240, 0.4908, 0.8724, 0.3365],\n",
       "        [0.3000, 0.6133, 0.4398, 0.7819, 0.2566, 0.2821, 0.4220],\n",
       "        [0.8647, 0.4676, 0.8165, 0.2149, 0.4847, 0.7517, 0.7900],\n",
       "        [0.9792, 0.6903, 0.4945, 0.9872, 0.0795, 0.7647, 0.7058]])"
      ]
     },
     "execution_count": 44,
     "metadata": {},
     "output_type": "execute_result"
    }
   ],
   "source": [
    "y_true = torch.from_numpy(labels).float()\n",
    "y_pred = torch.rand([4, 7])\n",
    "# y_pred = torch.where(y_pred>0.5, 0, 1)\n",
    "y_pred"
   ]
  },
  {
   "cell_type": "code",
   "execution_count": 77,
   "metadata": {},
   "outputs": [
    {
     "data": {
      "text/plain": [
       "tensor(0.3333)"
      ]
     },
     "execution_count": 77,
     "metadata": {},
     "output_type": "execute_result"
    }
   ],
   "source": [
    "y_true = torch.tensor([[1,1,1], [0,0,0], [1,1,1]])\n",
    "y_pred = torch.tensor([[1,0,0], [1,1,1], [0,1,1]])\n",
    "mla = MultilabelAccuracy(num_labels=3)\n",
    "mla(y_pred, y_true)"
   ]
  }
 ],
 "metadata": {
  "interpreter": {
   "hash": "57200abac2ff18432c53e10587ceb364acdd46eebe90c6833204d1f95e2c9eff"
  },
  "kernelspec": {
   "display_name": "Python 3.8.13 ('yolov5')",
   "language": "python",
   "name": "python3"
  },
  "language_info": {
   "codemirror_mode": {
    "name": "ipython",
    "version": 3
   },
   "file_extension": ".py",
   "mimetype": "text/x-python",
   "name": "python",
   "nbconvert_exporter": "python",
   "pygments_lexer": "ipython3",
   "version": "3.8.13"
  },
  "orig_nbformat": 4
 },
 "nbformat": 4,
 "nbformat_minor": 2
}
