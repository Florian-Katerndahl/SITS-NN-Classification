{
 "cells": [
  {
   "cell_type": "code",
   "execution_count": 36,
   "metadata": {},
   "outputs": [],
   "source": [
    "import numpy as np\n",
    "import torch\n",
    "from torch import nn, optim\n",
    "from torchmetrics import R2Score\n",
    "import os\n",
    "import sys\n",
    "sys.path.append('../')\n",
    "import utils.dataset as dataset\n",
    "from models.lstm import RegressionLSTM"
   ]
  },
  {
   "cell_type": "code",
   "execution_count": null,
   "metadata": {},
   "outputs": [],
   "source": [
    "# file path\n",
    "PATH='D:\\\\Deutschland\\\\FUB\\\\master_thesis\\\\data\\\\gee\\\\output'\n",
    "DATA_DIR = os.path.join(PATH, 'monthly_mean')\n",
    "LABEL_CSV = '5_classes.csv'\n",
    "\n",
    "label_path = os.path.join(PATH, LABEL_CSV)"
   ]
  },
  {
   "cell_type": "code",
   "execution_count": null,
   "metadata": {},
   "outputs": [],
   "source": [
    "# general hyperparameters\n",
    "BATCH_SIZE = 128\n",
    "LR = 0.01\n",
    "EPOCH = 100\n",
    "SEED = 2048"
   ]
  },
  {
   "cell_type": "code",
   "execution_count": null,
   "metadata": {},
   "outputs": [],
   "source": [
    "# hyperparameters for LSTM\n",
    "input_size = 32\n",
    "hidden_size = 64\n",
    "num_layers = 2\n",
    "num_classes = 7"
   ]
  },
  {
   "cell_type": "code",
   "execution_count": null,
   "metadata": {},
   "outputs": [],
   "source": [
    "def build_dataset(x_data:np.ndarray, y_data:np.ndarray):\n",
    "    # embedding\n",
    "    embedding = nn.Embedding(8000, input_size)\n",
    "    x_set = torch.from_numpy(x_data)\n",
    "    y_set = torch.from_numpy(y_data).float()\n",
    "    x_set = embedding(x_set).detach()\n",
    "    return x_set, y_set"
   ]
  },
  {
   "cell_type": "code",
   "execution_count": null,
   "metadata": {},
   "outputs": [],
   "source": [
    "def train(model:nn.Module, epoch:int):\n",
    "    total_step = len(train_loader)\n",
    "    model.train()\n",
    "    for i, (inputs, labels) in enumerate(train_loader):\n",
    "        inputs = inputs.to(device)\n",
    "        labels = labels.to(device)\n",
    "        # forward pass\n",
    "        outputs = model(inputs)\n",
    "        loss = criterion(outputs, labels)\n",
    "        # backward and optimize\n",
    "        optimizer.zero_grad()\n",
    "        loss.backward()\n",
    "        optimizer.step()\n",
    "        # record training loss\n",
    "        if i % 40 == 0:\n",
    "            print('Epoch[{}/{}],Step[{}/{}],Loss:{:.4f}'\n",
    "            .format(epoch+1,EPOCH,i+40,total_step,loss.item()))"
   ]
  },
  {
   "cell_type": "code",
   "execution_count": 31,
   "metadata": {},
   "outputs": [],
   "source": [
    "def validate(model:nn.Module):\n",
    "    model.eval()\n",
    "    with torch.no_grad():\n",
    "        for (values, labels) in val_loader:\n",
    "            values = values.to(device)\n",
    "            labels = labels.to(device)\n",
    "            outputs = model(values)\n",
    "            num = labels.size(0)\n",
    "            # transpose matrics\n",
    "            outputs = outputs.t()\n",
    "            labels = labels.t()\n",
    "            r2score = R2Score(num_outputs=num, multioutput='raw_values').to(device)\n",
    "        #     r2score = R2Score(num_outputs=num_classes, multioutput='raw_values').to(device)\n",
    "            r2 = r2score(labels, outputs)\n",
    "            good_pred = (r2 >= 0.8).sum().item()\n",
    "        print(f'Portion of R^2 >= 0.8 on validate dataset: {good_pred / num * 100:.2f}%')\n",
    "        # print(f'R^2 on validate set for each class:')\n",
    "        # print('Spruce:{:.2f} | Beech:{:.2f} | Pine:{:.2f} | Douglas fir:{:.2f} | Oak:{:.2f} | Coniferous:{:.2f} | Deciduous:{:.2f}'\n",
    "        #     .format(r2[0].item(), r2[1].item(), r2[2].item(), r2[3].item(), r2[4].item(), r2[5].item(), r2[6].item()))"
   ]
  },
  {
   "cell_type": "code",
   "execution_count": null,
   "metadata": {},
   "outputs": [],
   "source": [
    "if __name__ == \"__main__\":\n",
    "    # Device configuration\n",
    "    device = torch.device('cuda' if torch.cuda.is_available() else 'cpu')\n",
    "    # dataset\n",
    "    x_data, y_data = dataset.load_csv_data(DATA_DIR, label_path)\n",
    "    x_set, y_set = build_dataset(x_data, y_data)\n",
    "    train_loader, val_loader = dataset.build_dataloader(x_set, y_set, BATCH_SIZE, SEED)\n",
    "    # model\n",
    "    model = RegressionLSTM(input_size, hidden_size, num_layers, num_classes).to(device)\n",
    "    # loss and optimizer\n",
    "    criterion = nn.MSELoss().to(device)\n",
    "    optimizer = optim.Adam(model.parameters(), LR)\n",
    "    # train and validate model\n",
    "    for epoch in range(EPOCH):\n",
    "        train(model, epoch)\n",
    "        validate(model)\n",
    "    # save model\n",
    "    # torch.save(model, '../outputs/model.pkl')"
   ]
  }
 ],
 "metadata": {
  "interpreter": {
   "hash": "57200abac2ff18432c53e10587ceb364acdd46eebe90c6833204d1f95e2c9eff"
  },
  "kernelspec": {
   "display_name": "Python 3.8.13 ('yolov5')",
   "language": "python",
   "name": "python3"
  },
  "language_info": {
   "codemirror_mode": {
    "name": "ipython",
    "version": 3
   },
   "file_extension": ".py",
   "mimetype": "text/x-python",
   "name": "python",
   "nbconvert_exporter": "python",
   "pygments_lexer": "ipython3",
   "version": "3.8.13"
  },
  "orig_nbformat": 4
 },
 "nbformat": 4,
 "nbformat_minor": 2
}
