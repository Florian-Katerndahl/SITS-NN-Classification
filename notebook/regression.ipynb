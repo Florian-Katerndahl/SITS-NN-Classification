{
 "cells": [
  {
   "cell_type": "code",
   "execution_count": 1,
   "metadata": {},
   "outputs": [
    {
     "name": "stderr",
     "output_type": "stream",
     "text": [
      "d:\\LenovoSoftstore\\Anaconda\\envs\\yolov5\\lib\\site-packages\\tqdm\\auto.py:22: TqdmWarning: IProgress not found. Please update jupyter and ipywidgets. See https://ipywidgets.readthedocs.io/en/stable/user_install.html\n",
      "  from .autonotebook import tqdm as notebook_tqdm\n"
     ]
    }
   ],
   "source": [
    "import numpy as np\n",
    "import torch\n",
    "from torch import nn, optim, Tensor\n",
    "import torch.utils.data as Data\n",
    "from torchmetrics import R2Score\n",
    "import os\n",
    "import sys\n",
    "sys.path.append('../')\n",
    "import utils.csv as csv\n",
    "from models.lstm import RegressionLSTM"
   ]
  },
  {
   "cell_type": "code",
   "execution_count": 2,
   "metadata": {},
   "outputs": [],
   "source": [
    "# file path\n",
    "PATH='D:\\\\Deutschland\\\\FUB\\\\master_thesis\\\\data\\\\gee\\\\output'\n",
    "DATA_DIR = os.path.join(PATH, 'monthly_mean')\n",
    "LABEL_CSV = '5_classes.csv'\n",
    "\n",
    "label_path = os.path.join(PATH, LABEL_CSV)"
   ]
  },
  {
   "cell_type": "code",
   "execution_count": 3,
   "metadata": {},
   "outputs": [],
   "source": [
    "# general hyperparameters\n",
    "BATCH_SIZE = 128\n",
    "LR = 0.01\n",
    "EPOCH = 100\n",
    "SEED = 2048"
   ]
  },
  {
   "cell_type": "code",
   "execution_count": 4,
   "metadata": {},
   "outputs": [],
   "source": [
    "# hyperparameters for LSTM\n",
    "input_size = 32\n",
    "hidden_size = 64\n",
    "num_layers = 2\n",
    "num_classes = 7"
   ]
  },
  {
   "cell_type": "code",
   "execution_count": 5,
   "metadata": {},
   "outputs": [],
   "source": [
    "def numpy_to_tensor(x_data:np.ndarray, y_data:np.ndarray):\n",
    "    # embedding\n",
    "    embedding = nn.Embedding(8000, input_size)\n",
    "    x_set = torch.from_numpy(x_data)\n",
    "    y_set = torch.from_numpy(y_data).float()\n",
    "    x_set = embedding(x_set).detach()\n",
    "    return x_set, y_set"
   ]
  },
  {
   "cell_type": "code",
   "execution_count": 6,
   "metadata": {},
   "outputs": [],
   "source": [
    "def build_dataloader(x_set:Tensor, y_set:Tensor, batch_size:int, seed:int):\n",
    "    dataset = Data.TensorDataset(x_set, y_set)\n",
    "    # split dataset\n",
    "    size = len(dataset)\n",
    "    train_size, val_size = round(0.8 * size), round(0.2 * size)\n",
    "    generator = torch.Generator().manual_seed(seed)\n",
    "    train_dataset, val_dataset = Data.random_split(dataset, [train_size, val_size], generator)\n",
    "    # # manually split dataset\n",
    "    # x_train = x_set[:444]\n",
    "    # y_train = y_set[:444]\n",
    "    # x_val = x_set[444:]\n",
    "    # y_val = y_set[444:]\n",
    "    # train_dataset = Data.TensorDataset(x_train, y_train)\n",
    "    # val_dataset = Data.TensorDataset(x_val, y_val)\n",
    "    # data_loader\n",
    "    train_loader = Data.DataLoader(train_dataset,batch_size=batch_size,shuffle=True,num_workers=2)\n",
    "    val_loader = Data.DataLoader(val_dataset,batch_size=len(val_dataset), shuffle=True,num_workers=2)\n",
    "    return train_loader, val_loader"
   ]
  },
  {
   "cell_type": "code",
   "execution_count": 7,
   "metadata": {},
   "outputs": [],
   "source": [
    "def train(model:nn.Module, epoch:int):\n",
    "    total_step = len(train_loader)\n",
    "    model.train()\n",
    "    for i, (inputs, labels) in enumerate(train_loader):\n",
    "        inputs = inputs.to(device)\n",
    "        labels = labels.to(device)\n",
    "        # forward pass\n",
    "        outputs = model(inputs)\n",
    "        loss = criterion(outputs, labels)\n",
    "        # backward and optimize\n",
    "        optimizer.zero_grad()\n",
    "        loss.backward()\n",
    "        optimizer.step()\n",
    "        # record training loss\n",
    "        if i % 40 == 0:\n",
    "            print('Epoch[{}/{}],Step[{}/{}],Loss:{:.4f}'\n",
    "            .format(epoch+1,EPOCH,i+40,total_step,loss.item()))"
   ]
  },
  {
   "cell_type": "code",
   "execution_count": 8,
   "metadata": {},
   "outputs": [],
   "source": [
    "def validate(model:nn.Module):\n",
    "    model.eval()\n",
    "    with torch.no_grad():\n",
    "        for (values, labels) in val_loader:\n",
    "            values = values.to(device)\n",
    "            labels = labels.to(device)\n",
    "            outputs = model(values)\n",
    "            num = labels.size(0)\n",
    "            # transpose matrics\n",
    "            outputs = outputs.t()\n",
    "            labels = labels.t()\n",
    "            r2score = R2Score(num_outputs=num, multioutput='raw_values').to(device)\n",
    "        #     r2score = R2Score(num_outputs=num_classes, multioutput='raw_values').to(device)\n",
    "            r2 = r2score(labels, outputs)\n",
    "            good_pred = (r2 > 0.5).sum().item()\n",
    "        print(f'Portion of R^2 > 0.5 on validate dataset: {good_pred / num * 100:.2f}%')\n",
    "        # print(f'R^2 on validate set for each class:')\n",
    "        # print('Spruce:{:.2f} | Beech:{:.2f} | Pine:{:.2f} | Douglas fir:{:.2f} | Oak:{:.2f} | Coniferous:{:.2f} | Deciduous:{:.2f}'\n",
    "        #     .format(r2[0].item(), r2[1].item(), r2[2].item(), r2[3].item(), r2[4].item(), r2[5].item(), r2[6].item()))"
   ]
  },
  {
   "cell_type": "code",
   "execution_count": 9,
   "metadata": {},
   "outputs": [
    {
     "name": "stdout",
     "output_type": "stream",
     "text": [
      "Epoch[1/100],Step[40/40],Loss:0.0702\n",
      "Portion of R^2 > 0.5 on validate dataset: 1.18%\n",
      "Epoch[2/100],Step[40/40],Loss:0.0562\n",
      "Portion of R^2 > 0.5 on validate dataset: 0.94%\n",
      "Epoch[3/100],Step[40/40],Loss:0.0490\n",
      "Portion of R^2 > 0.5 on validate dataset: 18.27%\n",
      "Epoch[4/100],Step[40/40],Loss:0.0389\n",
      "Portion of R^2 > 0.5 on validate dataset: 10.08%\n",
      "Epoch[5/100],Step[40/40],Loss:0.0412\n",
      "Portion of R^2 > 0.5 on validate dataset: 16.46%\n",
      "Epoch[6/100],Step[40/40],Loss:0.0339\n",
      "Portion of R^2 > 0.5 on validate dataset: 33.23%\n",
      "Epoch[7/100],Step[40/40],Loss:0.0312\n",
      "Portion of R^2 > 0.5 on validate dataset: 20.79%\n",
      "Epoch[8/100],Step[40/40],Loss:0.0255\n",
      "Portion of R^2 > 0.5 on validate dataset: 17.87%\n",
      "Epoch[9/100],Step[40/40],Loss:0.0220\n",
      "Portion of R^2 > 0.5 on validate dataset: 26.54%\n",
      "Epoch[10/100],Step[40/40],Loss:0.0195\n",
      "Portion of R^2 > 0.5 on validate dataset: 30.16%\n",
      "Epoch[11/100],Step[40/40],Loss:0.0183\n",
      "Portion of R^2 > 0.5 on validate dataset: 35.43%\n",
      "Epoch[12/100],Step[40/40],Loss:0.0155\n",
      "Portion of R^2 > 0.5 on validate dataset: 31.50%\n",
      "Epoch[13/100],Step[40/40],Loss:0.0138\n",
      "Portion of R^2 > 0.5 on validate dataset: 27.09%\n",
      "Epoch[14/100],Step[40/40],Loss:0.0123\n",
      "Portion of R^2 > 0.5 on validate dataset: 29.45%\n",
      "Epoch[15/100],Step[40/40],Loss:0.0113\n",
      "Portion of R^2 > 0.5 on validate dataset: 28.82%\n",
      "Epoch[16/100],Step[40/40],Loss:0.0090\n",
      "Portion of R^2 > 0.5 on validate dataset: 32.44%\n",
      "Epoch[17/100],Step[40/40],Loss:0.0110\n",
      "Portion of R^2 > 0.5 on validate dataset: 30.55%\n",
      "Epoch[18/100],Step[40/40],Loss:0.0075\n",
      "Portion of R^2 > 0.5 on validate dataset: 30.08%\n",
      "Epoch[19/100],Step[40/40],Loss:0.0082\n",
      "Portion of R^2 > 0.5 on validate dataset: 28.35%\n",
      "Epoch[20/100],Step[40/40],Loss:0.0066\n",
      "Portion of R^2 > 0.5 on validate dataset: 31.65%\n",
      "Epoch[21/100],Step[40/40],Loss:0.0085\n",
      "Portion of R^2 > 0.5 on validate dataset: 24.65%\n"
     ]
    },
    {
     "ename": "KeyboardInterrupt",
     "evalue": "",
     "output_type": "error",
     "traceback": [
      "\u001b[1;31m---------------------------------------------------------------------------\u001b[0m",
      "\u001b[1;31mKeyboardInterrupt\u001b[0m                         Traceback (most recent call last)",
      "\u001b[1;32md:\\Codes\\python\\TSC_CNN\\dongshen\\notebook\\regression.ipynb Cell 9'\u001b[0m in \u001b[0;36m<cell line: 1>\u001b[1;34m()\u001b[0m\n\u001b[0;32m     <a href='vscode-notebook-cell:/d%3A/Codes/python/TSC_CNN/dongshen/notebook/regression.ipynb#ch0000007?line=12'>13</a>\u001b[0m \u001b[39m# train and validate model\u001b[39;00m\n\u001b[0;32m     <a href='vscode-notebook-cell:/d%3A/Codes/python/TSC_CNN/dongshen/notebook/regression.ipynb#ch0000007?line=13'>14</a>\u001b[0m \u001b[39mfor\u001b[39;00m epoch \u001b[39min\u001b[39;00m \u001b[39mrange\u001b[39m(EPOCH):\n\u001b[1;32m---> <a href='vscode-notebook-cell:/d%3A/Codes/python/TSC_CNN/dongshen/notebook/regression.ipynb#ch0000007?line=14'>15</a>\u001b[0m     train(model, epoch)\n\u001b[0;32m     <a href='vscode-notebook-cell:/d%3A/Codes/python/TSC_CNN/dongshen/notebook/regression.ipynb#ch0000007?line=15'>16</a>\u001b[0m     validate(model)\n",
      "\u001b[1;32md:\\Codes\\python\\TSC_CNN\\dongshen\\notebook\\regression.ipynb Cell 7'\u001b[0m in \u001b[0;36mtrain\u001b[1;34m(model, epoch)\u001b[0m\n\u001b[0;32m      <a href='vscode-notebook-cell:/d%3A/Codes/python/TSC_CNN/dongshen/notebook/regression.ipynb#ch0000005?line=1'>2</a>\u001b[0m total_step \u001b[39m=\u001b[39m \u001b[39mlen\u001b[39m(train_loader)\n\u001b[0;32m      <a href='vscode-notebook-cell:/d%3A/Codes/python/TSC_CNN/dongshen/notebook/regression.ipynb#ch0000005?line=2'>3</a>\u001b[0m model\u001b[39m.\u001b[39mtrain()\n\u001b[1;32m----> <a href='vscode-notebook-cell:/d%3A/Codes/python/TSC_CNN/dongshen/notebook/regression.ipynb#ch0000005?line=3'>4</a>\u001b[0m \u001b[39mfor\u001b[39;00m i, (inputs, labels) \u001b[39min\u001b[39;00m \u001b[39menumerate\u001b[39m(train_loader):\n\u001b[0;32m      <a href='vscode-notebook-cell:/d%3A/Codes/python/TSC_CNN/dongshen/notebook/regression.ipynb#ch0000005?line=4'>5</a>\u001b[0m     inputs \u001b[39m=\u001b[39m inputs\u001b[39m.\u001b[39mto(device)\n\u001b[0;32m      <a href='vscode-notebook-cell:/d%3A/Codes/python/TSC_CNN/dongshen/notebook/regression.ipynb#ch0000005?line=5'>6</a>\u001b[0m     labels \u001b[39m=\u001b[39m labels\u001b[39m.\u001b[39mto(device)\n",
      "File \u001b[1;32md:\\LenovoSoftstore\\Anaconda\\envs\\yolov5\\lib\\site-packages\\torch\\utils\\data\\dataloader.py:517\u001b[0m, in \u001b[0;36m_BaseDataLoaderIter.__next__\u001b[1;34m(self)\u001b[0m\n\u001b[0;32m    <a href='file:///d%3A/LenovoSoftstore/Anaconda/envs/yolov5/lib/site-packages/torch/utils/data/dataloader.py?line=514'>515</a>\u001b[0m \u001b[39mif\u001b[39;00m \u001b[39mself\u001b[39m\u001b[39m.\u001b[39m_sampler_iter \u001b[39mis\u001b[39;00m \u001b[39mNone\u001b[39;00m:\n\u001b[0;32m    <a href='file:///d%3A/LenovoSoftstore/Anaconda/envs/yolov5/lib/site-packages/torch/utils/data/dataloader.py?line=515'>516</a>\u001b[0m     \u001b[39mself\u001b[39m\u001b[39m.\u001b[39m_reset()\n\u001b[1;32m--> <a href='file:///d%3A/LenovoSoftstore/Anaconda/envs/yolov5/lib/site-packages/torch/utils/data/dataloader.py?line=516'>517</a>\u001b[0m data \u001b[39m=\u001b[39m \u001b[39mself\u001b[39;49m\u001b[39m.\u001b[39;49m_next_data()\n\u001b[0;32m    <a href='file:///d%3A/LenovoSoftstore/Anaconda/envs/yolov5/lib/site-packages/torch/utils/data/dataloader.py?line=517'>518</a>\u001b[0m \u001b[39mself\u001b[39m\u001b[39m.\u001b[39m_num_yielded \u001b[39m+\u001b[39m\u001b[39m=\u001b[39m \u001b[39m1\u001b[39m\n\u001b[0;32m    <a href='file:///d%3A/LenovoSoftstore/Anaconda/envs/yolov5/lib/site-packages/torch/utils/data/dataloader.py?line=518'>519</a>\u001b[0m \u001b[39mif\u001b[39;00m \u001b[39mself\u001b[39m\u001b[39m.\u001b[39m_dataset_kind \u001b[39m==\u001b[39m _DatasetKind\u001b[39m.\u001b[39mIterable \u001b[39mand\u001b[39;00m \\\n\u001b[0;32m    <a href='file:///d%3A/LenovoSoftstore/Anaconda/envs/yolov5/lib/site-packages/torch/utils/data/dataloader.py?line=519'>520</a>\u001b[0m         \u001b[39mself\u001b[39m\u001b[39m.\u001b[39m_IterableDataset_len_called \u001b[39mis\u001b[39;00m \u001b[39mnot\u001b[39;00m \u001b[39mNone\u001b[39;00m \u001b[39mand\u001b[39;00m \\\n\u001b[0;32m    <a href='file:///d%3A/LenovoSoftstore/Anaconda/envs/yolov5/lib/site-packages/torch/utils/data/dataloader.py?line=520'>521</a>\u001b[0m         \u001b[39mself\u001b[39m\u001b[39m.\u001b[39m_num_yielded \u001b[39m>\u001b[39m \u001b[39mself\u001b[39m\u001b[39m.\u001b[39m_IterableDataset_len_called:\n",
      "File \u001b[1;32md:\\LenovoSoftstore\\Anaconda\\envs\\yolov5\\lib\\site-packages\\torch\\utils\\data\\dataloader.py:1182\u001b[0m, in \u001b[0;36m_MultiProcessingDataLoaderIter._next_data\u001b[1;34m(self)\u001b[0m\n\u001b[0;32m   <a href='file:///d%3A/LenovoSoftstore/Anaconda/envs/yolov5/lib/site-packages/torch/utils/data/dataloader.py?line=1178'>1179</a>\u001b[0m     \u001b[39mreturn\u001b[39;00m \u001b[39mself\u001b[39m\u001b[39m.\u001b[39m_process_data(data)\n\u001b[0;32m   <a href='file:///d%3A/LenovoSoftstore/Anaconda/envs/yolov5/lib/site-packages/torch/utils/data/dataloader.py?line=1180'>1181</a>\u001b[0m \u001b[39massert\u001b[39;00m \u001b[39mnot\u001b[39;00m \u001b[39mself\u001b[39m\u001b[39m.\u001b[39m_shutdown \u001b[39mand\u001b[39;00m \u001b[39mself\u001b[39m\u001b[39m.\u001b[39m_tasks_outstanding \u001b[39m>\u001b[39m \u001b[39m0\u001b[39m\n\u001b[1;32m-> <a href='file:///d%3A/LenovoSoftstore/Anaconda/envs/yolov5/lib/site-packages/torch/utils/data/dataloader.py?line=1181'>1182</a>\u001b[0m idx, data \u001b[39m=\u001b[39m \u001b[39mself\u001b[39;49m\u001b[39m.\u001b[39;49m_get_data()\n\u001b[0;32m   <a href='file:///d%3A/LenovoSoftstore/Anaconda/envs/yolov5/lib/site-packages/torch/utils/data/dataloader.py?line=1182'>1183</a>\u001b[0m \u001b[39mself\u001b[39m\u001b[39m.\u001b[39m_tasks_outstanding \u001b[39m-\u001b[39m\u001b[39m=\u001b[39m \u001b[39m1\u001b[39m\n\u001b[0;32m   <a href='file:///d%3A/LenovoSoftstore/Anaconda/envs/yolov5/lib/site-packages/torch/utils/data/dataloader.py?line=1183'>1184</a>\u001b[0m \u001b[39mif\u001b[39;00m \u001b[39mself\u001b[39m\u001b[39m.\u001b[39m_dataset_kind \u001b[39m==\u001b[39m _DatasetKind\u001b[39m.\u001b[39mIterable:\n\u001b[0;32m   <a href='file:///d%3A/LenovoSoftstore/Anaconda/envs/yolov5/lib/site-packages/torch/utils/data/dataloader.py?line=1184'>1185</a>\u001b[0m     \u001b[39m# Check for _IterableDatasetStopIteration\u001b[39;00m\n",
      "File \u001b[1;32md:\\LenovoSoftstore\\Anaconda\\envs\\yolov5\\lib\\site-packages\\torch\\utils\\data\\dataloader.py:1148\u001b[0m, in \u001b[0;36m_MultiProcessingDataLoaderIter._get_data\u001b[1;34m(self)\u001b[0m\n\u001b[0;32m   <a href='file:///d%3A/LenovoSoftstore/Anaconda/envs/yolov5/lib/site-packages/torch/utils/data/dataloader.py?line=1143'>1144</a>\u001b[0m     \u001b[39m# In this case, `self._data_queue` is a `queue.Queue`,. But we don't\u001b[39;00m\n\u001b[0;32m   <a href='file:///d%3A/LenovoSoftstore/Anaconda/envs/yolov5/lib/site-packages/torch/utils/data/dataloader.py?line=1144'>1145</a>\u001b[0m     \u001b[39m# need to call `.task_done()` because we don't use `.join()`.\u001b[39;00m\n\u001b[0;32m   <a href='file:///d%3A/LenovoSoftstore/Anaconda/envs/yolov5/lib/site-packages/torch/utils/data/dataloader.py?line=1145'>1146</a>\u001b[0m \u001b[39melse\u001b[39;00m:\n\u001b[0;32m   <a href='file:///d%3A/LenovoSoftstore/Anaconda/envs/yolov5/lib/site-packages/torch/utils/data/dataloader.py?line=1146'>1147</a>\u001b[0m     \u001b[39mwhile\u001b[39;00m \u001b[39mTrue\u001b[39;00m:\n\u001b[1;32m-> <a href='file:///d%3A/LenovoSoftstore/Anaconda/envs/yolov5/lib/site-packages/torch/utils/data/dataloader.py?line=1147'>1148</a>\u001b[0m         success, data \u001b[39m=\u001b[39m \u001b[39mself\u001b[39;49m\u001b[39m.\u001b[39;49m_try_get_data()\n\u001b[0;32m   <a href='file:///d%3A/LenovoSoftstore/Anaconda/envs/yolov5/lib/site-packages/torch/utils/data/dataloader.py?line=1148'>1149</a>\u001b[0m         \u001b[39mif\u001b[39;00m success:\n\u001b[0;32m   <a href='file:///d%3A/LenovoSoftstore/Anaconda/envs/yolov5/lib/site-packages/torch/utils/data/dataloader.py?line=1149'>1150</a>\u001b[0m             \u001b[39mreturn\u001b[39;00m data\n",
      "File \u001b[1;32md:\\LenovoSoftstore\\Anaconda\\envs\\yolov5\\lib\\site-packages\\torch\\utils\\data\\dataloader.py:986\u001b[0m, in \u001b[0;36m_MultiProcessingDataLoaderIter._try_get_data\u001b[1;34m(self, timeout)\u001b[0m\n\u001b[0;32m    <a href='file:///d%3A/LenovoSoftstore/Anaconda/envs/yolov5/lib/site-packages/torch/utils/data/dataloader.py?line=972'>973</a>\u001b[0m \u001b[39mdef\u001b[39;00m \u001b[39m_try_get_data\u001b[39m(\u001b[39mself\u001b[39m, timeout\u001b[39m=\u001b[39m_utils\u001b[39m.\u001b[39mMP_STATUS_CHECK_INTERVAL):\n\u001b[0;32m    <a href='file:///d%3A/LenovoSoftstore/Anaconda/envs/yolov5/lib/site-packages/torch/utils/data/dataloader.py?line=973'>974</a>\u001b[0m     \u001b[39m# Tries to fetch data from `self._data_queue` once for a given timeout.\u001b[39;00m\n\u001b[0;32m    <a href='file:///d%3A/LenovoSoftstore/Anaconda/envs/yolov5/lib/site-packages/torch/utils/data/dataloader.py?line=974'>975</a>\u001b[0m     \u001b[39m# This can also be used as inner loop of fetching without timeout, with\u001b[39;00m\n\u001b[1;32m   (...)\u001b[0m\n\u001b[0;32m    <a href='file:///d%3A/LenovoSoftstore/Anaconda/envs/yolov5/lib/site-packages/torch/utils/data/dataloader.py?line=982'>983</a>\u001b[0m     \u001b[39m# Returns a 2-tuple:\u001b[39;00m\n\u001b[0;32m    <a href='file:///d%3A/LenovoSoftstore/Anaconda/envs/yolov5/lib/site-packages/torch/utils/data/dataloader.py?line=983'>984</a>\u001b[0m     \u001b[39m#   (bool: whether successfully get data, any: data if successful else None)\u001b[39;00m\n\u001b[0;32m    <a href='file:///d%3A/LenovoSoftstore/Anaconda/envs/yolov5/lib/site-packages/torch/utils/data/dataloader.py?line=984'>985</a>\u001b[0m     \u001b[39mtry\u001b[39;00m:\n\u001b[1;32m--> <a href='file:///d%3A/LenovoSoftstore/Anaconda/envs/yolov5/lib/site-packages/torch/utils/data/dataloader.py?line=985'>986</a>\u001b[0m         data \u001b[39m=\u001b[39m \u001b[39mself\u001b[39;49m\u001b[39m.\u001b[39;49m_data_queue\u001b[39m.\u001b[39;49mget(timeout\u001b[39m=\u001b[39;49mtimeout)\n\u001b[0;32m    <a href='file:///d%3A/LenovoSoftstore/Anaconda/envs/yolov5/lib/site-packages/torch/utils/data/dataloader.py?line=986'>987</a>\u001b[0m         \u001b[39mreturn\u001b[39;00m (\u001b[39mTrue\u001b[39;00m, data)\n\u001b[0;32m    <a href='file:///d%3A/LenovoSoftstore/Anaconda/envs/yolov5/lib/site-packages/torch/utils/data/dataloader.py?line=987'>988</a>\u001b[0m     \u001b[39mexcept\u001b[39;00m \u001b[39mException\u001b[39;00m \u001b[39mas\u001b[39;00m e:\n\u001b[0;32m    <a href='file:///d%3A/LenovoSoftstore/Anaconda/envs/yolov5/lib/site-packages/torch/utils/data/dataloader.py?line=988'>989</a>\u001b[0m         \u001b[39m# At timeout and error, we manually check whether any worker has\u001b[39;00m\n\u001b[0;32m    <a href='file:///d%3A/LenovoSoftstore/Anaconda/envs/yolov5/lib/site-packages/torch/utils/data/dataloader.py?line=989'>990</a>\u001b[0m         \u001b[39m# failed. Note that this is the only mechanism for Windows to detect\u001b[39;00m\n\u001b[0;32m    <a href='file:///d%3A/LenovoSoftstore/Anaconda/envs/yolov5/lib/site-packages/torch/utils/data/dataloader.py?line=990'>991</a>\u001b[0m         \u001b[39m# worker failures.\u001b[39;00m\n",
      "File \u001b[1;32md:\\LenovoSoftstore\\Anaconda\\envs\\yolov5\\lib\\multiprocessing\\queues.py:107\u001b[0m, in \u001b[0;36mQueue.get\u001b[1;34m(self, block, timeout)\u001b[0m\n\u001b[0;32m    <a href='file:///d%3A/LenovoSoftstore/Anaconda/envs/yolov5/lib/multiprocessing/queues.py?line=104'>105</a>\u001b[0m \u001b[39mif\u001b[39;00m block:\n\u001b[0;32m    <a href='file:///d%3A/LenovoSoftstore/Anaconda/envs/yolov5/lib/multiprocessing/queues.py?line=105'>106</a>\u001b[0m     timeout \u001b[39m=\u001b[39m deadline \u001b[39m-\u001b[39m time\u001b[39m.\u001b[39mmonotonic()\n\u001b[1;32m--> <a href='file:///d%3A/LenovoSoftstore/Anaconda/envs/yolov5/lib/multiprocessing/queues.py?line=106'>107</a>\u001b[0m     \u001b[39mif\u001b[39;00m \u001b[39mnot\u001b[39;00m \u001b[39mself\u001b[39;49m\u001b[39m.\u001b[39;49m_poll(timeout):\n\u001b[0;32m    <a href='file:///d%3A/LenovoSoftstore/Anaconda/envs/yolov5/lib/multiprocessing/queues.py?line=107'>108</a>\u001b[0m         \u001b[39mraise\u001b[39;00m Empty\n\u001b[0;32m    <a href='file:///d%3A/LenovoSoftstore/Anaconda/envs/yolov5/lib/multiprocessing/queues.py?line=108'>109</a>\u001b[0m \u001b[39melif\u001b[39;00m \u001b[39mnot\u001b[39;00m \u001b[39mself\u001b[39m\u001b[39m.\u001b[39m_poll():\n",
      "File \u001b[1;32md:\\LenovoSoftstore\\Anaconda\\envs\\yolov5\\lib\\multiprocessing\\connection.py:257\u001b[0m, in \u001b[0;36m_ConnectionBase.poll\u001b[1;34m(self, timeout)\u001b[0m\n\u001b[0;32m    <a href='file:///d%3A/LenovoSoftstore/Anaconda/envs/yolov5/lib/multiprocessing/connection.py?line=254'>255</a>\u001b[0m \u001b[39mself\u001b[39m\u001b[39m.\u001b[39m_check_closed()\n\u001b[0;32m    <a href='file:///d%3A/LenovoSoftstore/Anaconda/envs/yolov5/lib/multiprocessing/connection.py?line=255'>256</a>\u001b[0m \u001b[39mself\u001b[39m\u001b[39m.\u001b[39m_check_readable()\n\u001b[1;32m--> <a href='file:///d%3A/LenovoSoftstore/Anaconda/envs/yolov5/lib/multiprocessing/connection.py?line=256'>257</a>\u001b[0m \u001b[39mreturn\u001b[39;00m \u001b[39mself\u001b[39;49m\u001b[39m.\u001b[39;49m_poll(timeout)\n",
      "File \u001b[1;32md:\\LenovoSoftstore\\Anaconda\\envs\\yolov5\\lib\\multiprocessing\\connection.py:330\u001b[0m, in \u001b[0;36mPipeConnection._poll\u001b[1;34m(self, timeout)\u001b[0m\n\u001b[0;32m    <a href='file:///d%3A/LenovoSoftstore/Anaconda/envs/yolov5/lib/multiprocessing/connection.py?line=326'>327</a>\u001b[0m \u001b[39mif\u001b[39;00m (\u001b[39mself\u001b[39m\u001b[39m.\u001b[39m_got_empty_message \u001b[39mor\u001b[39;00m\n\u001b[0;32m    <a href='file:///d%3A/LenovoSoftstore/Anaconda/envs/yolov5/lib/multiprocessing/connection.py?line=327'>328</a>\u001b[0m             _winapi\u001b[39m.\u001b[39mPeekNamedPipe(\u001b[39mself\u001b[39m\u001b[39m.\u001b[39m_handle)[\u001b[39m0\u001b[39m] \u001b[39m!=\u001b[39m \u001b[39m0\u001b[39m):\n\u001b[0;32m    <a href='file:///d%3A/LenovoSoftstore/Anaconda/envs/yolov5/lib/multiprocessing/connection.py?line=328'>329</a>\u001b[0m     \u001b[39mreturn\u001b[39;00m \u001b[39mTrue\u001b[39;00m\n\u001b[1;32m--> <a href='file:///d%3A/LenovoSoftstore/Anaconda/envs/yolov5/lib/multiprocessing/connection.py?line=329'>330</a>\u001b[0m \u001b[39mreturn\u001b[39;00m \u001b[39mbool\u001b[39m(wait([\u001b[39mself\u001b[39;49m], timeout))\n",
      "File \u001b[1;32md:\\LenovoSoftstore\\Anaconda\\envs\\yolov5\\lib\\multiprocessing\\connection.py:879\u001b[0m, in \u001b[0;36mwait\u001b[1;34m(object_list, timeout)\u001b[0m\n\u001b[0;32m    <a href='file:///d%3A/LenovoSoftstore/Anaconda/envs/yolov5/lib/multiprocessing/connection.py?line=875'>876</a>\u001b[0m                 ready_objects\u001b[39m.\u001b[39madd(o)\n\u001b[0;32m    <a href='file:///d%3A/LenovoSoftstore/Anaconda/envs/yolov5/lib/multiprocessing/connection.py?line=876'>877</a>\u001b[0m                 timeout \u001b[39m=\u001b[39m \u001b[39m0\u001b[39m\n\u001b[1;32m--> <a href='file:///d%3A/LenovoSoftstore/Anaconda/envs/yolov5/lib/multiprocessing/connection.py?line=878'>879</a>\u001b[0m     ready_handles \u001b[39m=\u001b[39m _exhaustive_wait(waithandle_to_obj\u001b[39m.\u001b[39;49mkeys(), timeout)\n\u001b[0;32m    <a href='file:///d%3A/LenovoSoftstore/Anaconda/envs/yolov5/lib/multiprocessing/connection.py?line=879'>880</a>\u001b[0m \u001b[39mfinally\u001b[39;00m:\n\u001b[0;32m    <a href='file:///d%3A/LenovoSoftstore/Anaconda/envs/yolov5/lib/multiprocessing/connection.py?line=880'>881</a>\u001b[0m     \u001b[39m# request that overlapped reads stop\u001b[39;00m\n\u001b[0;32m    <a href='file:///d%3A/LenovoSoftstore/Anaconda/envs/yolov5/lib/multiprocessing/connection.py?line=881'>882</a>\u001b[0m     \u001b[39mfor\u001b[39;00m ov \u001b[39min\u001b[39;00m ov_list:\n",
      "File \u001b[1;32md:\\LenovoSoftstore\\Anaconda\\envs\\yolov5\\lib\\multiprocessing\\connection.py:811\u001b[0m, in \u001b[0;36m_exhaustive_wait\u001b[1;34m(handles, timeout)\u001b[0m\n\u001b[0;32m    <a href='file:///d%3A/LenovoSoftstore/Anaconda/envs/yolov5/lib/multiprocessing/connection.py?line=808'>809</a>\u001b[0m ready \u001b[39m=\u001b[39m []\n\u001b[0;32m    <a href='file:///d%3A/LenovoSoftstore/Anaconda/envs/yolov5/lib/multiprocessing/connection.py?line=809'>810</a>\u001b[0m \u001b[39mwhile\u001b[39;00m L:\n\u001b[1;32m--> <a href='file:///d%3A/LenovoSoftstore/Anaconda/envs/yolov5/lib/multiprocessing/connection.py?line=810'>811</a>\u001b[0m     res \u001b[39m=\u001b[39m _winapi\u001b[39m.\u001b[39;49mWaitForMultipleObjects(L, \u001b[39mFalse\u001b[39;49;00m, timeout)\n\u001b[0;32m    <a href='file:///d%3A/LenovoSoftstore/Anaconda/envs/yolov5/lib/multiprocessing/connection.py?line=811'>812</a>\u001b[0m     \u001b[39mif\u001b[39;00m res \u001b[39m==\u001b[39m WAIT_TIMEOUT:\n\u001b[0;32m    <a href='file:///d%3A/LenovoSoftstore/Anaconda/envs/yolov5/lib/multiprocessing/connection.py?line=812'>813</a>\u001b[0m         \u001b[39mbreak\u001b[39;00m\n",
      "\u001b[1;31mKeyboardInterrupt\u001b[0m: "
     ]
    }
   ],
   "source": [
    "if __name__ == \"__main__\":\n",
    "    # Device configuration\n",
    "    device = torch.device('cuda' if torch.cuda.is_available() else 'cpu')\n",
    "    # dataset\n",
    "    x_data, y_data = csv.to_numpy(DATA_DIR, label_path)\n",
    "    x_set, y_set = numpy_to_tensor(x_data, y_data)\n",
    "    train_loader, val_loader = build_dataloader(x_set, y_set, BATCH_SIZE, SEED)\n",
    "    # model\n",
    "    model = RegressionLSTM(input_size, hidden_size, num_layers, num_classes).to(device)\n",
    "    # loss and optimizer\n",
    "    criterion = nn.MSELoss().to(device)\n",
    "    optimizer = optim.Adam(model.parameters(), LR)\n",
    "    # train and validate model\n",
    "    for epoch in range(EPOCH):\n",
    "        train(model, epoch)\n",
    "        validate(model)\n",
    "    # save model\n",
    "    # torch.save(model, '../outputs/model.pkl')"
   ]
  }
 ],
 "metadata": {
  "interpreter": {
   "hash": "57200abac2ff18432c53e10587ceb364acdd46eebe90c6833204d1f95e2c9eff"
  },
  "kernelspec": {
   "display_name": "Python 3.8.13 ('yolov5')",
   "language": "python",
   "name": "python3"
  },
  "language_info": {
   "codemirror_mode": {
    "name": "ipython",
    "version": 3
   },
   "file_extension": ".py",
   "mimetype": "text/x-python",
   "name": "python",
   "nbconvert_exporter": "python",
   "pygments_lexer": "ipython3",
   "version": "3.8.13"
  },
  "orig_nbformat": 4
 },
 "nbformat": 4,
 "nbformat_minor": 2
}
