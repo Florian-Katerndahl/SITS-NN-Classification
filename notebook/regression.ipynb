{
 "cells": [
  {
   "cell_type": "code",
   "execution_count": 1,
   "metadata": {},
   "outputs": [
    {
     "name": "stderr",
     "output_type": "stream",
     "text": [
      "d:\\LenovoSoftstore\\Anaconda\\envs\\yolov5\\lib\\site-packages\\tqdm\\auto.py:22: TqdmWarning: IProgress not found. Please update jupyter and ipywidgets. See https://ipywidgets.readthedocs.io/en/stable/user_install.html\n",
      "  from .autonotebook import tqdm as notebook_tqdm\n"
     ]
    }
   ],
   "source": [
    "import numpy as np\n",
    "import torch\n",
    "from torch import nn, optim, Tensor\n",
    "import torch.utils.data as Data\n",
    "import os\n",
    "import sys\n",
    "sys.path.append('../')\n",
    "import utils.csv as csv\n",
    "from models.transformer import TransformerRegression\n",
    "import utils.validation as val"
   ]
  },
  {
   "cell_type": "code",
   "execution_count": 42,
   "metadata": {},
   "outputs": [],
   "source": [
    "# file path\n",
    "PATH='D:\\\\Deutschland\\\\FUB\\\\master_thesis\\\\data\\\\gee\\\\output'\n",
    "DATA_DIR = os.path.join(PATH, 'monthly_mean')\n",
    "LABEL_CSV = '7_classes.csv'\n",
    "\n",
    "label_path = os.path.join(PATH, LABEL_CSV)"
   ]
  },
  {
   "cell_type": "code",
   "execution_count": 43,
   "metadata": {},
   "outputs": [],
   "source": [
    "# general hyperparameters\n",
    "BATCH_SIZE = 128\n",
    "LR = 0.01\n",
    "EPOCH = 100\n",
    "SEED = 12345"
   ]
  },
  {
   "cell_type": "code",
   "execution_count": 44,
   "metadata": {},
   "outputs": [],
   "source": [
    "# hyperparameters for Transformer model\n",
    "src_size = 8000\n",
    "tgt_size = 101\n",
    "d_model = 8\n",
    "nhead = 4\n",
    "num_layers = 1\n",
    "dim_feedforward = 128"
   ]
  },
  {
   "cell_type": "code",
   "execution_count": 45,
   "metadata": {},
   "outputs": [],
   "source": [
    "def numpy_to_tensor(x_data:np.ndarray, y_data:np.ndarray):\n",
    "    # x_data = x_data.T\n",
    "    # y_data = y_data.T\n",
    "    x_set = torch.from_numpy(x_data)\n",
    "    y_set = torch.from_numpy(y_data)\n",
    "    return x_set, y_set"
   ]
  },
  {
   "cell_type": "code",
   "execution_count": 46,
   "metadata": {},
   "outputs": [],
   "source": [
    "def build_dataloader(x_set:Tensor, y_set:Tensor, batch_size:int, seed:int):\n",
    "    dataset = Data.TensorDataset(x_set, y_set)\n",
    "    # split dataset\n",
    "    size = len(dataset)\n",
    "    train_size, val_size = round(0.8 * size), round(0.2 * size)\n",
    "    generator = torch.Generator().manual_seed(seed)\n",
    "    train_dataset, val_dataset = Data.random_split(dataset, [train_size, val_size], generator)\n",
    "    # # manually split dataset\n",
    "    # x_train = x_set[:444]\n",
    "    # y_train = y_set[:444]\n",
    "    # x_val = x_set[444:]\n",
    "    # y_val = y_set[444:]\n",
    "    # train_dataset = Data.TensorDataset(x_train, y_train)\n",
    "    # val_dataset = Data.TensorDataset(x_val, y_val)\n",
    "    # data_loader\n",
    "    train_loader = Data.DataLoader(train_dataset,batch_size=batch_size,shuffle=True,num_workers=2)\n",
    "    val_loader = Data.DataLoader(val_dataset,batch_size=32, shuffle=True,num_workers=2)\n",
    "    return train_loader, val_loader"
   ]
  },
  {
   "cell_type": "code",
   "execution_count": 47,
   "metadata": {},
   "outputs": [],
   "source": [
    "def train(model:nn.Module, epoch:int):\n",
    "    total_step = len(train_loader)\n",
    "    model.train()\n",
    "    for i, (inputs, labels) in enumerate(train_loader):\n",
    "        inputs = inputs.t().to(device)\n",
    "        labels = labels.t().to(device)\n",
    "        # forward pass\n",
    "        outputs = model(inputs, labels)\n",
    "        loss = criterion(outputs, labels/100.)\n",
    "        # backward and optimize\n",
    "        optimizer.zero_grad()\n",
    "        loss.backward()\n",
    "        optimizer.step()\n",
    "        # record training loss\n",
    "        if i % 40 == 0:\n",
    "            print('Epoch[{}/{}],Step[{}/{}],Loss:{:.4f}'\n",
    "            .format(epoch+1,EPOCH,i+40,total_step,loss.item()))"
   ]
  },
  {
   "cell_type": "code",
   "execution_count": null,
   "metadata": {},
   "outputs": [],
   "source": [
    "def validate(model:nn.Module):\n",
    "    model.eval()\n",
    "    good_pred = 0\n",
    "    total = 0\n",
    "    with torch.no_grad():\n",
    "        for (inputs, labels) in val_loader:\n",
    "            inputs = inputs.t().to(device)\n",
    "            labels = labels.t().to(device)\n",
    "            outputs = model(inputs, labels)\n",
    "            print(outputs)\n",
    "            print(outputs.size())\n",
    "            good_pred += val.valid_num(labels/100., outputs)\n",
    "            total += labels.size(1)\n",
    "            break\n",
    "    print(f'Validation accuracy: {good_pred / total * 100:.2f}%')"
   ]
  },
  {
   "cell_type": "code",
   "execution_count": 49,
   "metadata": {},
   "outputs": [
    {
     "name": "stdout",
     "output_type": "stream",
     "text": [
      "Load training data\n",
      "Transfered data to numpy array\n",
      "Start training\n",
      "Epoch[1/100],Step[40/40],Loss:0.0676\n",
      "Epoch[2/100],Step[40/40],Loss:0.0696\n",
      "Epoch[3/100],Step[40/40],Loss:0.0647\n",
      "Epoch[4/100],Step[40/40],Loss:0.0732\n"
     ]
    },
    {
     "ename": "KeyboardInterrupt",
     "evalue": "",
     "output_type": "error",
     "traceback": [
      "\u001b[1;31m---------------------------------------------------------------------------\u001b[0m",
      "\u001b[1;31mKeyboardInterrupt\u001b[0m                         Traceback (most recent call last)",
      "\u001b[1;32md:\\Codes\\python\\TSC_CNN\\dongshen\\notebook\\regression.ipynb Cell 9'\u001b[0m in \u001b[0;36m<cell line: 1>\u001b[1;34m()\u001b[0m\n\u001b[0;32m     <a href='vscode-notebook-cell:/d%3A/Codes/python/TSC_CNN/dongshen/notebook/regression.ipynb#ch0000009?line=13'>14</a>\u001b[0m \u001b[39mprint\u001b[39m(\u001b[39m\"\u001b[39m\u001b[39mStart training\u001b[39m\u001b[39m\"\u001b[39m)\n\u001b[0;32m     <a href='vscode-notebook-cell:/d%3A/Codes/python/TSC_CNN/dongshen/notebook/regression.ipynb#ch0000009?line=14'>15</a>\u001b[0m \u001b[39mfor\u001b[39;00m epoch \u001b[39min\u001b[39;00m \u001b[39mrange\u001b[39m(EPOCH):\n\u001b[1;32m---> <a href='vscode-notebook-cell:/d%3A/Codes/python/TSC_CNN/dongshen/notebook/regression.ipynb#ch0000009?line=15'>16</a>\u001b[0m     train(model, epoch)\n",
      "\u001b[1;32md:\\Codes\\python\\TSC_CNN\\dongshen\\notebook\\regression.ipynb Cell 7'\u001b[0m in \u001b[0;36mtrain\u001b[1;34m(model, epoch)\u001b[0m\n\u001b[0;32m     <a href='vscode-notebook-cell:/d%3A/Codes/python/TSC_CNN/dongshen/notebook/regression.ipynb#ch0000007?line=9'>10</a>\u001b[0m \u001b[39m# backward and optimize\u001b[39;00m\n\u001b[0;32m     <a href='vscode-notebook-cell:/d%3A/Codes/python/TSC_CNN/dongshen/notebook/regression.ipynb#ch0000007?line=10'>11</a>\u001b[0m optimizer\u001b[39m.\u001b[39mzero_grad()\n\u001b[1;32m---> <a href='vscode-notebook-cell:/d%3A/Codes/python/TSC_CNN/dongshen/notebook/regression.ipynb#ch0000007?line=11'>12</a>\u001b[0m loss\u001b[39m.\u001b[39;49mbackward()\n\u001b[0;32m     <a href='vscode-notebook-cell:/d%3A/Codes/python/TSC_CNN/dongshen/notebook/regression.ipynb#ch0000007?line=12'>13</a>\u001b[0m optimizer\u001b[39m.\u001b[39mstep()\n\u001b[0;32m     <a href='vscode-notebook-cell:/d%3A/Codes/python/TSC_CNN/dongshen/notebook/regression.ipynb#ch0000007?line=13'>14</a>\u001b[0m \u001b[39m# record training loss\u001b[39;00m\n",
      "File \u001b[1;32md:\\LenovoSoftstore\\Anaconda\\envs\\yolov5\\lib\\site-packages\\torch\\tensor.py:245\u001b[0m, in \u001b[0;36mTensor.backward\u001b[1;34m(self, gradient, retain_graph, create_graph, inputs)\u001b[0m\n\u001b[0;32m    <a href='file:///d%3A/LenovoSoftstore/Anaconda/envs/yolov5/lib/site-packages/torch/tensor.py?line=235'>236</a>\u001b[0m \u001b[39mif\u001b[39;00m has_torch_function_unary(\u001b[39mself\u001b[39m):\n\u001b[0;32m    <a href='file:///d%3A/LenovoSoftstore/Anaconda/envs/yolov5/lib/site-packages/torch/tensor.py?line=236'>237</a>\u001b[0m     \u001b[39mreturn\u001b[39;00m handle_torch_function(\n\u001b[0;32m    <a href='file:///d%3A/LenovoSoftstore/Anaconda/envs/yolov5/lib/site-packages/torch/tensor.py?line=237'>238</a>\u001b[0m         Tensor\u001b[39m.\u001b[39mbackward,\n\u001b[0;32m    <a href='file:///d%3A/LenovoSoftstore/Anaconda/envs/yolov5/lib/site-packages/torch/tensor.py?line=238'>239</a>\u001b[0m         (\u001b[39mself\u001b[39m,),\n\u001b[1;32m   (...)\u001b[0m\n\u001b[0;32m    <a href='file:///d%3A/LenovoSoftstore/Anaconda/envs/yolov5/lib/site-packages/torch/tensor.py?line=242'>243</a>\u001b[0m         create_graph\u001b[39m=\u001b[39mcreate_graph,\n\u001b[0;32m    <a href='file:///d%3A/LenovoSoftstore/Anaconda/envs/yolov5/lib/site-packages/torch/tensor.py?line=243'>244</a>\u001b[0m         inputs\u001b[39m=\u001b[39minputs)\n\u001b[1;32m--> <a href='file:///d%3A/LenovoSoftstore/Anaconda/envs/yolov5/lib/site-packages/torch/tensor.py?line=244'>245</a>\u001b[0m torch\u001b[39m.\u001b[39;49mautograd\u001b[39m.\u001b[39;49mbackward(\u001b[39mself\u001b[39;49m, gradient, retain_graph, create_graph, inputs\u001b[39m=\u001b[39;49minputs)\n",
      "File \u001b[1;32md:\\LenovoSoftstore\\Anaconda\\envs\\yolov5\\lib\\site-packages\\torch\\autograd\\__init__.py:145\u001b[0m, in \u001b[0;36mbackward\u001b[1;34m(tensors, grad_tensors, retain_graph, create_graph, grad_variables, inputs)\u001b[0m\n\u001b[0;32m    <a href='file:///d%3A/LenovoSoftstore/Anaconda/envs/yolov5/lib/site-packages/torch/autograd/__init__.py?line=141'>142</a>\u001b[0m \u001b[39mif\u001b[39;00m retain_graph \u001b[39mis\u001b[39;00m \u001b[39mNone\u001b[39;00m:\n\u001b[0;32m    <a href='file:///d%3A/LenovoSoftstore/Anaconda/envs/yolov5/lib/site-packages/torch/autograd/__init__.py?line=142'>143</a>\u001b[0m     retain_graph \u001b[39m=\u001b[39m create_graph\n\u001b[1;32m--> <a href='file:///d%3A/LenovoSoftstore/Anaconda/envs/yolov5/lib/site-packages/torch/autograd/__init__.py?line=144'>145</a>\u001b[0m Variable\u001b[39m.\u001b[39;49m_execution_engine\u001b[39m.\u001b[39;49mrun_backward(\n\u001b[0;32m    <a href='file:///d%3A/LenovoSoftstore/Anaconda/envs/yolov5/lib/site-packages/torch/autograd/__init__.py?line=145'>146</a>\u001b[0m     tensors, grad_tensors_, retain_graph, create_graph, inputs,\n\u001b[0;32m    <a href='file:///d%3A/LenovoSoftstore/Anaconda/envs/yolov5/lib/site-packages/torch/autograd/__init__.py?line=146'>147</a>\u001b[0m     allow_unreachable\u001b[39m=\u001b[39;49m\u001b[39mTrue\u001b[39;49;00m, accumulate_grad\u001b[39m=\u001b[39;49m\u001b[39mTrue\u001b[39;49;00m)\n",
      "\u001b[1;31mKeyboardInterrupt\u001b[0m: "
     ]
    }
   ],
   "source": [
    "if __name__ == \"__main__\":\n",
    "    # Device configuration\n",
    "    device = torch.device('cuda' if torch.cuda.is_available() else 'cpu')\n",
    "    # dataset\n",
    "    x_data, y_data = csv.to_numpy(DATA_DIR, label_path)\n",
    "    x_set, y_set = numpy_to_tensor(x_data, y_data)\n",
    "    train_loader, val_loader = build_dataloader(x_set, y_set, BATCH_SIZE, SEED)\n",
    "    # model\n",
    "    model = TransformerRegression(src_size, tgt_size, d_model, nhead, num_layers, dim_feedforward).to(device)\n",
    "    # loss and optimizer\n",
    "    criterion = nn.MSELoss().to(device)\n",
    "    optimizer = optim.SGD(model.parameters(), LR, momentum=0.99)\n",
    "    # train and validate model\n",
    "    print(\"Start training\")\n",
    "    for epoch in range(EPOCH):\n",
    "        train(model, epoch)\n",
    "        # validate(model)\n",
    "    # save model\n",
    "    # torch.save(model, '../outputs/model.pkl')"
   ]
  },
  {
   "cell_type": "code",
   "execution_count": 50,
   "metadata": {},
   "outputs": [
    {
     "name": "stdout",
     "output_type": "stream",
     "text": [
      "tensor([[0.1620, 0.1910, 0.0912, 0.1571, 0.0818, 0.0917, 0.1354, 0.1537, 0.1143,\n",
      "         0.1627, 0.1172, 0.1154, 0.0971, 0.1614, 0.1449, 0.0662, 0.1859, 0.1306,\n",
      "         0.1567, 0.0831, 0.1936, 0.1678, 0.0962, 0.1426, 0.1516, 0.1411, 0.1072,\n",
      "         0.1015, 0.1728, 0.1491, 0.1160, 0.1592],\n",
      "        [0.1541, 0.1294, 0.1352, 0.1186, 0.1084, 0.0896, 0.2372, 0.1207, 0.1745,\n",
      "         0.1092, 0.1081, 0.1756, 0.1119, 0.0781, 0.1435, 0.1432, 0.1413, 0.2005,\n",
      "         0.1470, 0.1009, 0.1622, 0.2068, 0.1554, 0.1526, 0.0982, 0.1862, 0.1843,\n",
      "         0.1610, 0.1126, 0.1669, 0.1569, 0.1214],\n",
      "        [0.1184, 0.1371, 0.1638, 0.0931, 0.1547, 0.1332, 0.1104, 0.1535, 0.0953,\n",
      "         0.1742, 0.1394, 0.1308, 0.1323, 0.2239, 0.1237, 0.1403, 0.1185, 0.1466,\n",
      "         0.1281, 0.1268, 0.1253, 0.1953, 0.1966, 0.1695, 0.1905, 0.1532, 0.2183,\n",
      "         0.1029, 0.1449, 0.1191, 0.1740, 0.1583],\n",
      "        [0.1529, 0.1154, 0.1190, 0.1501, 0.2539, 0.2044, 0.0967, 0.1358, 0.1818,\n",
      "         0.1243, 0.1592, 0.1639, 0.1304, 0.1394, 0.1269, 0.1724, 0.1395, 0.1258,\n",
      "         0.1760, 0.1836, 0.1273, 0.1120, 0.1707, 0.1848, 0.1625, 0.1186, 0.1528,\n",
      "         0.1554, 0.1413, 0.1064, 0.1583, 0.1380],\n",
      "        [0.1616, 0.1158, 0.1471, 0.2059, 0.1640, 0.2143, 0.1515, 0.1991, 0.1481,\n",
      "         0.0998, 0.1737, 0.1199, 0.1878, 0.1368, 0.1330, 0.2737, 0.1352, 0.0977,\n",
      "         0.1532, 0.1817, 0.1212, 0.1072, 0.1472, 0.1086, 0.1477, 0.1481, 0.1345,\n",
      "         0.1759, 0.1128, 0.1560, 0.1570, 0.0869],\n",
      "        [0.1248, 0.1800, 0.1633, 0.1439, 0.1095, 0.1554, 0.1744, 0.1420, 0.1801,\n",
      "         0.1382, 0.1732, 0.2002, 0.1529, 0.1284, 0.1128, 0.1108, 0.1409, 0.0998,\n",
      "         0.1857, 0.2058, 0.1181, 0.1132, 0.0942, 0.1068, 0.1415, 0.1668, 0.1077,\n",
      "         0.1395, 0.1783, 0.1751, 0.1521, 0.1793],\n",
      "        [0.1262, 0.1313, 0.1804, 0.1314, 0.1275, 0.1114, 0.0944, 0.0952, 0.1060,\n",
      "         0.1916, 0.1293, 0.0942, 0.1876, 0.1320, 0.2152, 0.0934, 0.1387, 0.1990,\n",
      "         0.0534, 0.1181, 0.1522, 0.0977, 0.1398, 0.1351, 0.1079, 0.0861, 0.0951,\n",
      "         0.1639, 0.1373, 0.1274, 0.0857, 0.1569]], device='cuda:0')\n",
      "torch.Size([7, 32])\n",
      "Validation accuracy: 0.00%\n"
     ]
    }
   ],
   "source": [
    "validate(model)"
   ]
  }
 ],
 "metadata": {
  "interpreter": {
   "hash": "57200abac2ff18432c53e10587ceb364acdd46eebe90c6833204d1f95e2c9eff"
  },
  "kernelspec": {
   "display_name": "Python 3.8.13 ('yolov5')",
   "language": "python",
   "name": "python3"
  },
  "language_info": {
   "codemirror_mode": {
    "name": "ipython",
    "version": 3
   },
   "file_extension": ".py",
   "mimetype": "text/x-python",
   "name": "python",
   "nbconvert_exporter": "python",
   "pygments_lexer": "ipython3",
   "version": "3.8.13"
  },
  "orig_nbformat": 4
 },
 "nbformat": 4,
 "nbformat_minor": 2
}
